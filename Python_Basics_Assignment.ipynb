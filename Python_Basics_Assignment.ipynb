{
  "nbformat": 4,
  "nbformat_minor": 0,
  "metadata": {
    "colab": {
      "provenance": []
    },
    "kernelspec": {
      "name": "python3",
      "display_name": "Python 3"
    },
    "language_info": {
      "name": "python"
    }
  },
  "cells": [
    {
      "cell_type": "markdown",
      "source": [
        "**Python Basics Questions**"
      ],
      "metadata": {
        "id": "d3ZWzODAd-EQ"
      }
    },
    {
      "cell_type": "markdown",
      "source": [
        "1.What is Python, and why is it popular?\n",
        "\n",
        "\n",
        "-Python is high-level, general purpose programming language.\n",
        "It is popular beacause it is\n",
        "-Beginer friendly and easy syntax\n",
        "-versatality across domains like web development,data science and analytics ,machine learning and automation.\n",
        "-extensive libraries and open source support.\n",
        "\n",
        "\n",
        "2.What is an interpreter in Python?\n",
        "\n",
        "\n",
        "-Interpreter helps the python code to run line by line.This makes python a dynamically typed language.\n",
        "\n",
        "\n",
        "3.What are pre-defined keywords in Python?\n",
        "\n",
        "\n",
        "-Pre-defined keywords are pred defined words that have special meaning and purpose.These keywords cannot be used as identifiers(such as variable name,function name and class name).\n",
        "\n",
        "-Python 3.10 have 36 predefined keywords.\n",
        "\n",
        "Here some predefined keywords are:\n",
        "-and,or,not,if,or,if,else,elif,continue,import,as in etc.\n",
        "\n",
        "-import keyword\n",
        "print(keyword.kwlist)\n",
        "\n",
        "4.Can keywords be used as variable names?\n",
        "\n",
        "\n",
        "-No keywords cannot be used as varibale names because keywords have special meaning and purpose.\n",
        "\n",
        "5.What is mutability in Python?\n",
        "\n",
        "\n",
        "-Mutability refers to whether objects can be changed after it's creation.\n",
        "\n",
        "-Lists: We can add, remove, or modify elements.\n",
        "-Dictionaries: We can add, remove, or change key-value pairs.\n",
        "-Sets: We can add or remove elements.\n",
        "\n",
        "6.Why are lists mutable, but tuples are immutable?\n",
        "\n",
        "\n",
        "-List are mutable because it's content can be change after it's creation but in tuples we can't change content after it's creation.\n",
        "\n",
        "7.What is the difference between “==” and “is” operators in Python?\n",
        "\n",
        "\n",
        "-== checks if two values of objects are same.\n",
        "for eg:\n",
        "a=[1,2,3]\n",
        "b=[1,2,3]\n",
        "print(a==b)\n",
        "\n",
        "-is checks if both variables refers to the exact same object in the memory\n",
        "eg:\n",
        "x=None\n",
        "print(x is None)\n",
        "\n",
        "8.What are logical operators in Python?\n",
        "\n",
        "\n",
        "-In python we have 3 logical operators:\n",
        "\n",
        "-And-It returns true if both operands are True.\n",
        "True and True->True\n",
        "True and False-> False\n",
        "\n",
        "-or-It returns true if any one condition is true.\n",
        "True or True->True\n",
        "True or False->True\n",
        "\n",
        "-Not-It always return a boolean value.\n",
        "Not True->False\n",
        "Not False-> True\n",
        "\n",
        "9.What is type casting in Python?\n",
        "\n",
        "\n",
        "-Type casting refers to converting a value from one data type to another data type. For eg: changing from int data type to string data type or vise-versa.\n",
        "\n",
        "eg:a=3.14\n",
        "print(int(a))\n",
        "print(float(a))\n",
        "\n",
        "10.What is the difference between implicit and explicit type casting?\n",
        "\n",
        "\n",
        "-In implicit type casting python interpreter automatically converts a value from one data type to another without programming instruction.\n",
        "eg:\n",
        "a=3   #int data type\n",
        "b=1.2 #float data type\n",
        "print(c,type(c))  #Gives float data type\n",
        "\n",
        "-In explicit type casting programmer himself will change the value of one data type to another data type.\n",
        "\n",
        "eg:\n",
        "age=\"28\"  #str data type\n",
        "new_age=int(age)   #change data type from str to int\n",
        "print(new_age,type(new_age))\n",
        "\n",
        "11.What is the purpose of conditional statements in Python?\n",
        "\n",
        "\n",
        "-Conditional statements helps us to give output if certain condition is match.\n",
        "-Python have 3 conditional statements -if-elif-else.\n",
        "\n",
        "for eg:\n",
        "age=12\n",
        "if age==12:\n",
        "  print(\"valid age\")\n",
        "else:\n",
        "  print(\"not a valid age\")\n",
        "\n",
        "12.How does the elif statement work?\n",
        "\n",
        "\n",
        "-elif will works only if all preceding if and elif conditions are false.Once condition is match rest of the chain is skipped.\n",
        "for eg:\n",
        "x=12\n",
        "if x>14:\n",
        "  print(\"greater than 14\")\n",
        "elif x>10:\n",
        "  print(\"greater than 10\")\n",
        "elif x>5:\n",
        "  print(\"greater than 5\")\n",
        "else:\n",
        "  print(\"5 or below\")\n",
        "\n",
        "-Here x>10 which is true and x>5 this will not evaluate.\n",
        "\n",
        "13.What is the difference between for and while loops?\n",
        "\n",
        "\n",
        "-For loop will iterate over each item in sequence (list,string,tuple,dictionary)\n",
        "for i in range(10):\n",
        "  print(i)\n",
        "\n",
        "-while loop will execute a block repeatedly until a condition become false.\n",
        "\n",
        "i=0\n",
        "while i<5:\n",
        "  print(i)\n",
        "  i+=1\n",
        "\n",
        "14.Describe a scenario where a while loop is more suitable than a for loop?\n",
        "\n",
        "\n",
        "-A while loop is more suitable than a for loop when we don't know in advance how many iterations are needed, and the loop should continue based on a condition that may change in unpredictable ways.\n",
        "\n",
        "Scenario Example: User Input Validation\n",
        "\n",
        "Imagine we are writing a program that asks the user to enter a password.we want to keep prompting the user until they enter the correct password. we don't know how many tries will need, so a while loop is ideal.\n",
        "\n",
        "correct_password = \"Rixit123\"\n",
        "user_input = input(\"Enter your password: \")\n",
        "\n",
        "while user_input != correct_password:\n",
        "    print(\"Incorrect password. Try again.\")\n",
        "    user_input = input(\"Enter your password: \")\n",
        "\n",
        "print(\"Access granted.\")"
      ],
      "metadata": {
        "id": "blvNwFoMf9ne"
      }
    },
    {
      "cell_type": "markdown",
      "source": [
        "**Practical Questions**"
      ],
      "metadata": {
        "id": "yxsSIAyneQbb"
      }
    },
    {
      "cell_type": "code",
      "source": [
        "#1 Write a Python program to print \"Hello, World!\n",
        "print(\"hello world\")"
      ],
      "metadata": {
        "colab": {
          "base_uri": "https://localhost:8080/"
        },
        "id": "03ruMgVueW9c",
        "outputId": "9bc96172-e55a-4587-8eec-54a3bcbfb78b"
      },
      "execution_count": null,
      "outputs": [
        {
          "output_type": "stream",
          "name": "stdout",
          "text": [
            "hello world\n"
          ]
        }
      ]
    },
    {
      "cell_type": "code",
      "source": [
        "#2 Write a Python program that displays your name and age8\n",
        "name=input(\"enter your name: \")\n",
        "age=int(input(\"enter your age: \"))\n",
        "print(\"my name is {} and age is {}\".format(name,age))"
      ],
      "metadata": {
        "colab": {
          "base_uri": "https://localhost:8080/"
        },
        "id": "quKJFgR4hGPW",
        "outputId": "f9c4b1de-7af3-4326-f038-039a1fdb5893"
      },
      "execution_count": null,
      "outputs": [
        {
          "output_type": "stream",
          "name": "stdout",
          "text": [
            "enter your name: Rikshit\n",
            "enter your age: 28\n",
            "my name is Rikshit and age is 28\n"
          ]
        }
      ]
    },
    {
      "cell_type": "code",
      "source": [
        "#3 Write code to print all the pre-defined keywords in Python using the keyword library?\n",
        "import keyword\n",
        "kw=keyword.kwlist\n",
        "print(kw)\n",
        "print(len(kw))"
      ],
      "metadata": {
        "colab": {
          "base_uri": "https://localhost:8080/"
        },
        "id": "qjz-jm-NhGae",
        "outputId": "98f9b76f-a3bc-4cb8-f1cc-db215d2043ba"
      },
      "execution_count": null,
      "outputs": [
        {
          "output_type": "stream",
          "name": "stdout",
          "text": [
            "['False', 'None', 'True', 'and', 'as', 'assert', 'async', 'await', 'break', 'class', 'continue', 'def', 'del', 'elif', 'else', 'except', 'finally', 'for', 'from', 'global', 'if', 'import', 'in', 'is', 'lambda', 'nonlocal', 'not', 'or', 'pass', 'raise', 'return', 'try', 'while', 'with', 'yield']\n",
            "35\n"
          ]
        }
      ]
    },
    {
      "cell_type": "code",
      "source": [
        "#4 Write a program that checks if a given word is a Python keyword.\n",
        "import keyword\n",
        "word=input(\"enter a word: \")\n",
        "if keyword.iskeyword(word):\n",
        "  print(word,\"is a keyword\")\n",
        "else:\n",
        "  print(word,\"is not a keyword\")"
      ],
      "metadata": {
        "colab": {
          "base_uri": "https://localhost:8080/"
        },
        "id": "cOdI-gH9hGjC",
        "outputId": "0b016de7-a419-4900-d2a3-bf1387a76898"
      },
      "execution_count": null,
      "outputs": [
        {
          "output_type": "stream",
          "name": "stdout",
          "text": [
            "enter a word: is\n",
            "is is a keyword\n"
          ]
        }
      ]
    },
    {
      "cell_type": "code",
      "source": [
        "#5 Create a list and tuple in Python, and demonstrate how attempting to change an element works differently for each.\n",
        "#List\n",
        "lst=[10,20,30,40]\n",
        "print(\"Current list is : \",lst)\n",
        "\n",
        "lst[0]=50 #change value in list at a specific index position\n",
        "print(\"Updated list is  : \",lst)\n",
        "\n",
        "#Tuple\n",
        "tup=(10,20,30,40)\n",
        "print(\"Current tuple is : \",tup)\n",
        "\n",
        "try:\n",
        "\n",
        "  tup[0]=50 #change value in tuple at a specific index position\n",
        "  print(\"Updated tuple is  : \",tup)\n",
        "except TypeError as e:\n",
        "  print(e)"
      ],
      "metadata": {
        "colab": {
          "base_uri": "https://localhost:8080/"
        },
        "id": "gkUKlnoGhG6R",
        "outputId": "f32100bd-f9fd-48c6-b7e5-b8098a53cc54"
      },
      "execution_count": 1,
      "outputs": [
        {
          "output_type": "stream",
          "name": "stdout",
          "text": [
            "Current list is :  [10, 20, 30, 40]\n",
            "Updated list is  :  [50, 20, 30, 40]\n",
            "Current tuple is :  (10, 20, 30, 40)\n",
            "'tuple' object does not support item assignment\n"
          ]
        }
      ]
    },
    {
      "cell_type": "code",
      "source": [
        "#6. Write a function to demonstrate the behavior of mutable and immutable arguments.\n",
        "def demonstrate_mutability():\n",
        "    # Immutable argument (integer)\n",
        "    num = 10\n",
        "    print(f\"Original num: {num}\")\n",
        "\n",
        "    def modify_num(n):\n",
        "        n += 5\n",
        "        print(f\"Inside modify_num: {n}\")\n",
        "\n",
        "    modify_num(num)\n",
        "    print(f\"After modify_num: {num}\")\n",
        "\n",
        "    # Mutable argument (list)\n",
        "    lst = [1, 2, 3]\n",
        "    print(f\"\\nOriginal list: {lst}\")\n",
        "\n",
        "    def modify_list(lst):\n",
        "        lst.append(4)\n",
        "        print(f\"Inside modify_list: {lst}\")\n",
        "\n",
        "    modify_list(lst)\n",
        "    print(f\"After modify_list: {lst}\")\n",
        "\n",
        "demonstrate_mutability()"
      ],
      "metadata": {
        "colab": {
          "base_uri": "https://localhost:8080/"
        },
        "id": "N3fvWBUzhGp1",
        "outputId": "913537f9-bce3-4fb1-80e0-3ee8dd4b4587"
      },
      "execution_count": null,
      "outputs": [
        {
          "output_type": "stream",
          "name": "stdout",
          "text": [
            "Original num: 10\n",
            "Inside modify_num: 15\n",
            "After modify_num: 10\n",
            "\n",
            "Original list: [1, 2, 3]\n",
            "Inside modify_list: [1, 2, 3, 4]\n",
            "After modify_list: [1, 2, 3, 4]\n"
          ]
        }
      ]
    },
    {
      "cell_type": "code",
      "source": [
        "#7 Write a program that performs basic arithmetic operations on two user-input numbers.\n",
        "\n",
        "a=int(input(\"enter the num1: \"))\n",
        "b=int(input(\"enter the num2: \"))\n",
        "print(\"addition of two numbers are : \",a+b)\n",
        "print(\"subtraction of two numbers are : \",a-b)\n",
        "print(\"multiplication of two numbers are : \",a*b)\n",
        "print(\"Division of two numbers are : \",a/b)\n",
        "print(\"Floor division of two numbers are : \",a//b)\n",
        "print(\"Modulus of two numbers are : \",a%b)\n",
        "print(\"Exponential of two numbers are : \",a**b)"
      ],
      "metadata": {
        "colab": {
          "base_uri": "https://localhost:8080/"
        },
        "id": "m1xENDXKhGv9",
        "outputId": "8a86e445-e4aa-440e-8bbe-bb77e01af663"
      },
      "execution_count": null,
      "outputs": [
        {
          "output_type": "stream",
          "name": "stdout",
          "text": [
            "enter the num1: 10\n",
            "enter the num2: 2\n",
            "addition of two numbers are :  12\n",
            "subtraction of two numbers are :  8\n",
            "multiplication of two numbers are :  20\n",
            "Division of two numbers are :  5.0\n",
            "Floor division of two numbers are :  5\n",
            "Modulus of two numbers are :  0\n",
            "Exponential of two numbers are :  100\n"
          ]
        }
      ]
    },
    {
      "cell_type": "code",
      "source": [
        "#8 Write a program to demonstrate the use of logical operators.\n",
        "age=28\n",
        "income=50000\n",
        "\n",
        "#Using and Operator\n",
        "if age==28 and income>=50000:\n",
        "  print(\"Good Earning\")\n",
        "else:\n",
        "  print(\"Not Good Earning\")"
      ],
      "metadata": {
        "colab": {
          "base_uri": "https://localhost:8080/"
        },
        "id": "vXZF2ANehG1A",
        "outputId": "74fbed2a-a571-4dc2-b88d-4fd681c50a79"
      },
      "execution_count": null,
      "outputs": [
        {
          "output_type": "stream",
          "name": "stdout",
          "text": [
            "Good Earning\n"
          ]
        }
      ]
    },
    {
      "cell_type": "code",
      "source": [
        "# Using OR operator\n",
        "if age==28 or income<45000:\n",
        "  print(\"one condition is true\")\n",
        "else:\n",
        "  print(\"both condition are false\")"
      ],
      "metadata": {
        "colab": {
          "base_uri": "https://localhost:8080/"
        },
        "id": "t1VA4oBF_TCv",
        "outputId": "8886bc65-0ef0-4cf5-d749-7d61864f1dfa"
      },
      "execution_count": null,
      "outputs": [
        {
          "output_type": "stream",
          "name": "stdout",
          "text": [
            "one condition is true\n"
          ]
        }
      ]
    },
    {
      "cell_type": "code",
      "source": [
        "#Using NOT condition\n",
        "a=True\n",
        "print(not a)"
      ],
      "metadata": {
        "colab": {
          "base_uri": "https://localhost:8080/"
        },
        "id": "sKzYrFo2_TKR",
        "outputId": "f1c1ef8a-1e22-42ce-fa8d-08bf1c2c0712"
      },
      "execution_count": null,
      "outputs": [
        {
          "output_type": "stream",
          "name": "stdout",
          "text": [
            "False\n"
          ]
        }
      ]
    },
    {
      "cell_type": "code",
      "source": [
        "#9 Write a Python program to convert user input from string to integer, float, and boolean types.\n",
        "value=input(\"enter a value\")\n",
        "print(int(value))\n",
        "print(float(value))\n",
        "print(str(value))\n",
        "print(bool(value))"
      ],
      "metadata": {
        "colab": {
          "base_uri": "https://localhost:8080/"
        },
        "id": "qw6fezDdhG_b",
        "outputId": "fdb22114-4562-4690-80e4-c3df7a85dc01"
      },
      "execution_count": null,
      "outputs": [
        {
          "output_type": "stream",
          "name": "stdout",
          "text": [
            "enter a value12\n",
            "12\n",
            "12.0\n",
            "12\n",
            "True\n"
          ]
        }
      ]
    },
    {
      "cell_type": "code",
      "source": [
        "#10 Write code to demonstrate type casting with list elements.\n",
        "\n",
        "# Original list with string elements\n",
        "str_list = ['1', '2', '3', '4.5', 'True']\n",
        "\n",
        "# Convert all elements to integers\n",
        "int_list = [int(item) if item.isdigit() else 0 for item in str_list]\n",
        "print(\"Converted to integers:\", int_list)\n",
        "\n",
        "# Convert all elements to floats\n",
        "float_list = [float(item) if item.replace('.', '', 1).isdigit() else 0.0 for item in str_list]\n",
        "print(\"Converted to floats:\", float_list)\n",
        "\n",
        "# Convert all elements to booleans\n",
        "bool_list = [item.lower() in ['true', '1', 'yes', 'y'] for item in str_list]\n",
        "print(\"Converted to booleans:\", bool_list)\n"
      ],
      "metadata": {
        "colab": {
          "base_uri": "https://localhost:8080/"
        },
        "id": "CQmb994NhHEn",
        "outputId": "3694d551-7c02-4f87-b091-6f070f8bd891"
      },
      "execution_count": null,
      "outputs": [
        {
          "output_type": "stream",
          "name": "stdout",
          "text": [
            "Converted to integers: [1, 2, 3, 0, 0]\n",
            "Converted to floats: [1.0, 2.0, 3.0, 4.5, 0.0]\n",
            "Converted to booleans: [True, False, False, False, True]\n"
          ]
        }
      ]
    },
    {
      "cell_type": "code",
      "source": [
        "#11 Write a program that checks if a number is positive, negative, or zero.\n",
        "num=float(input(\"enter a number \"))\n",
        "if num>0:\n",
        "  print(\"number is positive \")\n",
        "elif num<0:\n",
        "  print(\"number is negative \")\n",
        "else:\n",
        "  print(\"number is zero \")"
      ],
      "metadata": {
        "colab": {
          "base_uri": "https://localhost:8080/"
        },
        "id": "9V-vzjmJhHK5",
        "outputId": "f53cae63-a87f-4626-d6e5-aba69af10b49"
      },
      "execution_count": null,
      "outputs": [
        {
          "output_type": "stream",
          "name": "stdout",
          "text": [
            "enter a number 12\n",
            "number is positive \n"
          ]
        }
      ]
    },
    {
      "cell_type": "code",
      "source": [
        "#12 Write a for loop to print numbers from 1 to 10.\n",
        "num=1\n",
        "while num<=10:\n",
        "  print(num)\n",
        "  num+=1"
      ],
      "metadata": {
        "colab": {
          "base_uri": "https://localhost:8080/"
        },
        "id": "o3wKB5ughHQ-",
        "outputId": "7cd08193-9200-4ecc-9f89-4d1e287525be"
      },
      "execution_count": null,
      "outputs": [
        {
          "output_type": "stream",
          "name": "stdout",
          "text": [
            "1\n",
            "2\n",
            "3\n",
            "4\n",
            "5\n",
            "6\n",
            "7\n",
            "8\n",
            "9\n",
            "10\n"
          ]
        }
      ]
    },
    {
      "cell_type": "code",
      "source": [
        "#13 Write a Python program to find the sum of all even numbers between 1 and 50.\n",
        "total_sum=0\n",
        "\n",
        "for num in range(1, 51):\n",
        "\n",
        "  if num%2==0:\n",
        "\n",
        "    total_sum+=num\n",
        "\n",
        "print(\"sum of numbers from 1 to 51 is :\",total_sum)"
      ],
      "metadata": {
        "colab": {
          "base_uri": "https://localhost:8080/"
        },
        "id": "35QaARMQhh0A",
        "outputId": "9835bf57-af22-4ed0-aefa-d8682ff6768d"
      },
      "execution_count": null,
      "outputs": [
        {
          "output_type": "stream",
          "name": "stdout",
          "text": [
            "sum of numbers from 1 to 51 is : 650\n"
          ]
        }
      ]
    },
    {
      "cell_type": "code",
      "source": [
        "#14 Write a program to reverse a string using a while loop.\n",
        "\n",
        "string=input(\"enter a string: \")\n",
        "reversed_string=\"\"\n",
        "index=len(string)-1\n",
        "while index>=0:\n",
        "  reversed_string+=string[index]\n",
        "  index-=1\n",
        "print(\"reversed string is: \",reversed_string)"
      ],
      "metadata": {
        "colab": {
          "base_uri": "https://localhost:8080/"
        },
        "id": "8D9Y0QkMhh3Y",
        "outputId": "86f514ae-5fd4-48ce-81d7-2a5793adc5cc"
      },
      "execution_count": null,
      "outputs": [
        {
          "output_type": "stream",
          "name": "stdout",
          "text": [
            "enter a string: hello\n",
            "reversed string is:  olleh\n"
          ]
        }
      ]
    },
    {
      "cell_type": "code",
      "source": [
        "#15 Write a Python program to calculate the factorial of a number provided by the user using a while loop.\n",
        "num=int(input(\"enter a number: \"))\n",
        "fact=1\n",
        "if num<0:\n",
        "  print(\"factorial does not exist for negative number\")\n",
        "else:\n",
        "  while num>0:\n",
        "    fact*=num\n",
        "    num-=1\n",
        "  print(fact)"
      ],
      "metadata": {
        "colab": {
          "base_uri": "https://localhost:8080/"
        },
        "id": "yGeZ2bIGhnJn",
        "outputId": "6aede839-c019-4260-8dae-427ed546d37e"
      },
      "execution_count": null,
      "outputs": [
        {
          "output_type": "stream",
          "name": "stdout",
          "text": [
            "enter a number: 12\n",
            "479001600\n"
          ]
        }
      ]
    }
  ]
}