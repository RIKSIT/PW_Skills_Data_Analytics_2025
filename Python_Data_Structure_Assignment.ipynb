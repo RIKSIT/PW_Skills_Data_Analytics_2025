{
  "nbformat": 4,
  "nbformat_minor": 0,
  "metadata": {
    "colab": {
      "provenance": []
    },
    "kernelspec": {
      "name": "python3",
      "display_name": "Python 3"
    },
    "language_info": {
      "name": "python"
    }
  },
  "cells": [
    {
      "cell_type": "markdown",
      "source": [
        "**Data Types and Structures Questions**\n"
      ],
      "metadata": {
        "id": "qocPau33Faj1"
      }
    },
    {
      "cell_type": "markdown",
      "source": [
        "1. What are data structures, and why are they important.\n",
        "\n",
        "\n",
        "\n",
        "-Data structures are specialized ways of storing and organizing data so that\n",
        " they can be used efficiently for different operations (like searching, inserting, deleting, or updating data).\n",
        "\n",
        "\n",
        "Data Structures are important due to following reasons:\n",
        "\n",
        "Efficiency\n",
        "Choosing the right structure speeds up your program.\n",
        "Example: Finding an item in a set is much faster than in a list.\n",
        "\n",
        "Memory Optimization\n",
        "Some structures use less memory for the same data.\n",
        "\n",
        "Better Problem-Solving\n",
        "Certain problems need certain structures (e.g., BFS needs a queue, DFS often uses a stack).\n",
        "\n",
        "Maintainability\n",
        "Well-structured data makes code easier to understand and maintain.\n",
        "\n",
        "\n",
        "\n",
        "\n",
        "\n",
        "2.Explain the difference between mutable and immutable data types with examples.\n",
        "\n",
        "-Mutable data types\n",
        " objects whose value can be change after creation without chnging their identity.\n",
        " for eg:\n",
        " -list\n",
        " -Dict\n",
        " -set\n",
        " -bytearray\n",
        "\n",
        " example:\n",
        " list1=[1,2,3,4]\n",
        " print(list1)\n",
        " list1.append(4)   -it will insert 4 in the list1 in last.\n",
        " print(list1)\n",
        "\n",
        "-Immutable Data Types\n",
        " obejcts whose value cannot be change after their creation .\n",
        " for eg:\n",
        " -tuple\n",
        " -int\n",
        " -float\n",
        "\n",
        " eg:\n",
        " name=\"rikshit\"\n",
        " print(id(name))\n",
        "\n",
        " name= name + \"nara\"\n",
        " print(id(name))   #different id new object will create.\n",
        "\n",
        "\n",
        "\n",
        "\n",
        "\n",
        "\n",
        "3.What are the main differences between lists and tuples in Python3.\n",
        "\n",
        "\n",
        "-List\n",
        " List is collection of different data types elements.\n",
        " List is enclosed in [] .\n",
        " List is immutable.\n",
        " List support indexing.\n",
        " List is not hashable.\n",
        "\n",
        "-Tuple\n",
        " Tuple is immutable in nature.\n",
        " Tuple also allows duplicacy.\n",
        " Tuples are faster than list because they are fixed in size.\n",
        " Tuples are enclosed in ().\n",
        " Tuples are hashable.\n",
        "\n",
        "\n",
        "\n",
        "\n",
        "\n",
        "\n",
        "\n",
        "4. Describe how dictionaries store data.\n",
        "\n",
        "\n",
        " Dictionaries store data in the form of key value pair.\n",
        " eg-\n",
        " dict1={\"name\":\"rikshit\",\"email\":\"rikshitnara@gmail.com\"}\n",
        " print(dict1)\n",
        " dict1.keys()  # Give keys as output.(name,email)\n",
        " dict1.values() #Give values as output.(rikshit,rikshitnara@gmail.com)\n",
        "\n",
        "\n",
        "\n",
        "\n",
        "\n",
        "\n",
        "5. Why might you use a set instead of a list in Python3.\n",
        "\n",
        " Set are the used over list because sets are un-ordered collection of elements and main reason of using set is it does not support duplicacy.\n",
        "\n",
        " eg:\n",
        " set1={1,1,2,2,3,4,4,5,5}\n",
        " print(set1)  # {1,2,3,4,5}\n",
        "\n",
        "\n",
        "\n",
        "\n",
        "\n",
        "6. What is a string in Python, and how is it different from a list3.\n",
        "\n",
        "\n",
        "\n",
        " -Strings in python are ordered , immutable collection of sequence of characters while lists are mutable in nature.\n",
        " -strings are enclosed in single,double or triple quotes.\n",
        " -In strings we cannot change the individual character,entire string needs to   be change.\n",
        "\n",
        "\n",
        "\n",
        "\n",
        "\n",
        "\n",
        "\n",
        "7.How do tuples ensure data integrity in Python3.\n",
        " Tuples ensure data integrity in python beacuse tuples are immutable in nature.Once created we cannot change , add or remove the elements.\n",
        "\n",
        " tuple1=(1,2,3,4)\n",
        " print(tuple1)\n",
        " tuple1[0]=1   #tuple object does not support item assignment.\n",
        "\n",
        "\n",
        "\n",
        "\n",
        "\n",
        "\n",
        "8.What is a hash table, and how does it relate to dictionaries in Python3.\n",
        "\n",
        "\n",
        "A hash table is a data structure that stores key–value pairs and uses a hash  function to quickly find the location (index) where each key’s value is stored.\n",
        "\n",
        "eg:\n",
        "fruit_colors = {\n",
        "    \"apple\": \"red\",\n",
        "    \"banana\": \"yellow\",\n",
        "    \"grape\": \"purple\"\n",
        "}\n",
        "\n",
        "# Lookup (fast because of hashing)\n",
        "print(fruit_colors[\"banana\"])  # yellow\n",
        "\n",
        "\n",
        "\n",
        "\n",
        "\n",
        "\n",
        "\n",
        "9. Can lists contain different data types in Python3.\n",
        "\n",
        " Yes ,list can store different data types in python3.\n",
        " eg:\n",
        " list1=[1,2,3,\"rixit\",2.2,9i+j]\n",
        "\n",
        "\n",
        " for i in list1:\n",
        "  print(i,type(i))\n",
        "\n",
        "\n",
        "\n",
        "\n",
        "\n",
        "\n",
        "\n",
        "10. Explain why strings are immutable in Python.\n",
        " Strings in Python are immutable because once a string object is created, its contents cannot be changed.\n",
        " If we want ot change the string entire string needs to be change.\n",
        "\n",
        "\n",
        "\n",
        "\n",
        "\n",
        "\n",
        "11.What advantages do dictionaries offer over lists for certain tasks.\n",
        "\n",
        "\n",
        "\n",
        "Dictionaries in Python offer several advantages over lists for certain tasks, mainly because they store key–value pairs and use hashing for super-fast lookups.\n",
        "\n",
        "\n",
        "Dictionaries automatically ensure key uniqueness, whereas lists allow duplicates without warning.\n",
        "\n",
        "\n",
        "\n",
        "\n",
        "\n",
        "\n",
        "\n",
        "12.Describe a scenario where using a tuple would be preferable over a list.\n",
        "\n",
        "\n",
        "A tuple is preferable over a list when you need fixed, read-only data that should never change after creation.\n",
        "\n",
        "\n",
        "Example Scenario — GPS Coordinates\n",
        "\n",
        "Here's why a tuple is better:\n",
        "\n",
        "Data Integrity → Coordinates are immutable, so they can't be accidentally changed.\n",
        "\n",
        "Hashable → We can use them as dictionary keys or set elements.\n",
        "\n",
        "\n",
        "\n",
        "\n",
        "\n",
        "\n",
        "\n",
        "13.How do sets handle duplicate values in Python.\n",
        "\n",
        "\n",
        "In Python, sets automatically remove duplicates because they are unordered collections of unique elements.\n",
        "\n",
        "\n",
        "When we add elements to a set, Python checks if the element already exists (using hashing and equality checks).\n",
        "\n",
        "If it already exists, it is not added again — duplicates are silently ignored.\n",
        "\n",
        "This ensures every element in a set is unique.\n",
        "\n",
        "\n",
        "\n",
        "\n",
        "\n",
        "\n",
        "\n",
        "14.How does the “in” keyword work differently for lists and dictionaries.\n",
        "\n",
        "\n",
        "The in keyword is used for membership testing in Python, but it works differently for lists and dictionaries because of how each data structure stores data.\n",
        "\n",
        "-in with Lists\n",
        "\n",
        "checks if value is exist in list.\n",
        "\n",
        "In list in keyword performs linear search .\n",
        "\n",
        "list1=[\"banana\",\"mango\",\"apple\"]\n",
        "\"apple\" in list1  #False\n",
        "\"peach\" in list1  #false\n",
        "\n",
        "\n",
        "-in with Dictionaries\n",
        "\n",
        "Checks if a key exists in the dictionary (not the value).\n",
        "\n",
        "To check values, we must use .values() or .items().\n",
        "\n",
        "dict1={\"banana\" : 100, \"apple\" : 120}\n",
        "\n",
        "print(\"banana\" in prices)  #true\n",
        "\n",
        "print(100 in dict1.values())   #true\n",
        "\n",
        "\n",
        "\n",
        "\n",
        "\n",
        "\n",
        "\n",
        "\n",
        "\n",
        "15.Can you modify the elements of a tuple? Explain why or why not.\n",
        "\n",
        "\n",
        "No — we cannot modify the elements of a tuple in Python because tuples are immutable.\n",
        "\n",
        "\n",
        "Special Case — Mutable Objects Inside a Tuple\n",
        "\n",
        "A tuple can contain mutable objects (like lists or dictionaries), and those mutable objects can be modified, but the tuple still can't have its structure changed.\n",
        "\n",
        "t = (1, [2, 3], 4)\n",
        "t[1].append(5)  # Modifying the list inside the tuple\n",
        "print(t)        # (1, [2, 3, 5], 4)\n",
        "\n",
        "\n",
        "\n",
        "\n",
        "\n",
        "\n",
        "\n",
        "\n",
        "16. What is a nested dictionary, and give an example of its use case.\n",
        "\n",
        "\n",
        "\n",
        "A nested dictionary in Python is a dictionary inside another dictionary.\n",
        "It allows you to store data in a hierarchical or multi-level structure.\n",
        "\n",
        "\n",
        "\n",
        "eg:\n",
        "\n",
        "employee_details={\n",
        "  {\"ED001\":{\"name\":\"rikshit\",\"marks\": {\"math\":50 , \"science\" :90}},\n",
        "  {\"ED002\":{\"name\":\"rohit\",\"marks\": {\"math\":90 , \"science\" :100}}\n",
        "}\n",
        "\n",
        "print(employee_details['ED001']['marks']['math'])\n",
        "\n",
        "\n",
        "\n",
        "\n",
        "\n",
        "\n",
        "\n",
        "17.Describe the time complexity of accessing elements in a dictionary.\n",
        "\n",
        "\n",
        "In Python, accessing an element in a dictionary has an average time complexity of O(1) (constant time) because dictionaries are implemented as hash tables.\n",
        "\n",
        "\n",
        "\n",
        "\n",
        "\n",
        "\n",
        "\n",
        "18.In what situations are lists preferred over dictionaries.\n",
        "\n",
        "\n",
        "Lists are preferred over dictionaries in Python when you don’t need key–value mapping and you mainly care about maintaining order and working with sequences of items.\n",
        "\n",
        "eg:\n",
        "list1[\"rikshit\",\"harshit\",\"manish\"]\n",
        "\n",
        "print(list1[0])         # \"rikhsit\"\n",
        "\n",
        "\n",
        "\n",
        "\n",
        "\n",
        "\n",
        "\n",
        "19.Why are dictionaries considered unordered, and how does that affect data retrieval.\n",
        "\n",
        "\n",
        "\n",
        "Dictionaries are implemented as hash tables.\n",
        "\n",
        "When you insert a key_value pair, Python:\n",
        "\n",
        "Calculates the hash of the key.\n",
        "\n",
        "Uses that hash to decide where in memory to store the value.\n",
        "\n",
        "This means the physical storage position depends on the hash, not the order of insertion.\n",
        "\n",
        "\n",
        "\n",
        "\n",
        "Impact on Data Retrieval\n",
        "\n",
        "Order should not be relied upon for logic (before Python 3.7 it wasn't preserved at all).\n",
        "\n",
        "Retrieval is by key, not by position.\n",
        "\n",
        "Access time is still O(1) on average because of hash lookups.\n",
        "\n",
        "\n",
        "\n",
        "\n",
        "\n",
        "\n",
        "20.Explain the difference between a list and a dictionary in terms of data retrieval.\n",
        "\n",
        "\n",
        "-List\n",
        " list is use when we want to retrieve data in a sequentail order.\n",
        " list objects are accessed through indexing.\n",
        " eg:\n",
        " list1=[\"rikshit,\"mohir\",\"rohit\"]\n",
        " print(list1[0])\n",
        "\n",
        "\n",
        " -Dictionary\n",
        " Dictionaries stores data in the form of key value pairs.\n",
        " values are accessed through keys.\n",
        " Dictionary are faster than list.\n",
        "\n",
        " eg:\n",
        " dict1{\"name\":\"rikshit\",\"age\" :28}\n",
        "\n",
        " print(dict1[\"name\"])    #rikshit\n"
      ],
      "metadata": {
        "id": "BHAXo4s9FdVq"
      }
    },
    {
      "cell_type": "markdown",
      "source": [
        "**Practical Questions**\n"
      ],
      "metadata": {
        "id": "PrhTQDI_F2Js"
      }
    },
    {
      "cell_type": "code",
      "source": [
        "# 1. Write a code to create a string with your name and print it.\n",
        "\n",
        "\n",
        "name=\"rikshit\"\n",
        "print(name)"
      ],
      "metadata": {
        "colab": {
          "base_uri": "https://localhost:8080/"
        },
        "id": "jSqq_HeEYmas",
        "outputId": "ad167ce2-abb5-48f6-c64d-1f56dbf034b0"
      },
      "execution_count": 1,
      "outputs": [
        {
          "output_type": "stream",
          "name": "stdout",
          "text": [
            "rikshit\n"
          ]
        }
      ]
    },
    {
      "cell_type": "code",
      "source": [
        "#2. Write a code to find the length of the string \"Hello World\".\n",
        "\n",
        "\n",
        "string=\"Hello World\"\n",
        "print(len(string))"
      ],
      "metadata": {
        "colab": {
          "base_uri": "https://localhost:8080/"
        },
        "id": "-OdooYjPY3X3",
        "outputId": "a373f91b-50d2-4e84-a647-2f2c20bd46e5"
      },
      "execution_count": 2,
      "outputs": [
        {
          "output_type": "stream",
          "name": "stdout",
          "text": [
            "11\n"
          ]
        }
      ]
    },
    {
      "cell_type": "code",
      "source": [
        "#3. Write a code to slice the first 3 characters from the string \"Python Programming\".\n",
        "\n",
        "\n",
        "\n",
        "slice=\"Python Programming\"\n",
        "print(slice[:3])"
      ],
      "metadata": {
        "colab": {
          "base_uri": "https://localhost:8080/"
        },
        "id": "C5Mb6FuRY7_i",
        "outputId": "f7a48b84-881d-4580-c748-7e859592c47b"
      },
      "execution_count": 3,
      "outputs": [
        {
          "output_type": "stream",
          "name": "stdout",
          "text": [
            "Pyt\n"
          ]
        }
      ]
    },
    {
      "cell_type": "code",
      "source": [
        "#4. Write a code to convert the string \"hello\" to uppercase.\n",
        "\n",
        "\n",
        "string=\"hello\"\n",
        "print(string.upper())"
      ],
      "metadata": {
        "colab": {
          "base_uri": "https://localhost:8080/"
        },
        "id": "LRHULPbxZApD",
        "outputId": "a0d729e7-0f9b-486e-cb91-572d6ed2f468"
      },
      "execution_count": 4,
      "outputs": [
        {
          "output_type": "stream",
          "name": "stdout",
          "text": [
            "HELLO\n"
          ]
        }
      ]
    },
    {
      "cell_type": "code",
      "source": [
        "#5. Write a code to replace the word \"apple\" with \"orange\" in the string \"I like apple\".\n",
        "\n",
        "\n",
        "string=\"I like apple\"\n",
        "new_string=string.replace(\"apple\",\"orange\")\n",
        "\n",
        "print(new_string)"
      ],
      "metadata": {
        "colab": {
          "base_uri": "https://localhost:8080/"
        },
        "id": "cz1fTNJ1ZGW5",
        "outputId": "bbd8e3ea-c385-4d6b-a87d-7de40411f290"
      },
      "execution_count": 7,
      "outputs": [
        {
          "output_type": "stream",
          "name": "stdout",
          "text": [
            "I like orange\n"
          ]
        }
      ]
    },
    {
      "cell_type": "code",
      "source": [
        "#6. Write a code to create a list with numbers 1 to 5 and print it.\n",
        "\n",
        "\n",
        "\n",
        "list1=[1,2,3,4,5]\n",
        "print(list1)\n",
        "print(type(list1))"
      ],
      "metadata": {
        "colab": {
          "base_uri": "https://localhost:8080/"
        },
        "id": "4FuCHg7PZGeV",
        "outputId": "6d2ada94-9c75-4a1a-94f8-7cf6d432147e"
      },
      "execution_count": 12,
      "outputs": [
        {
          "output_type": "stream",
          "name": "stdout",
          "text": [
            "[1, 2, 3, 4, 5]\n",
            "<class 'list'>\n"
          ]
        }
      ]
    },
    {
      "cell_type": "code",
      "source": [
        "#7. Write a code to append the number 10 to the list [1, 2, 3, 4].\n",
        "\n",
        "\n",
        "list1=[1,2,3,4]\n",
        "\n",
        "list1.append(10)\n",
        "print(list1)"
      ],
      "metadata": {
        "colab": {
          "base_uri": "https://localhost:8080/"
        },
        "id": "rmgkH4tjZGgj",
        "outputId": "8f6580c2-3cfc-4351-b168-90891be36629"
      },
      "execution_count": 13,
      "outputs": [
        {
          "output_type": "stream",
          "name": "stdout",
          "text": [
            "[1, 2, 3, 4, 10]\n"
          ]
        }
      ]
    },
    {
      "cell_type": "code",
      "source": [
        "#8. Write a code to remove the number 3 from the list [1, 2, 3, 4, 5].\n",
        "\n",
        "list2=[1,2,3,4,5]\n",
        "list2.remove(3)\n",
        "print(list2)"
      ],
      "metadata": {
        "colab": {
          "base_uri": "https://localhost:8080/"
        },
        "id": "xhEb4niIZWuB",
        "outputId": "162f5b0a-837a-463d-ef35-d01064e63114"
      },
      "execution_count": 14,
      "outputs": [
        {
          "output_type": "stream",
          "name": "stdout",
          "text": [
            "[1, 2, 4, 5]\n"
          ]
        }
      ]
    },
    {
      "cell_type": "code",
      "source": [
        "#9. Write a code to access the second element in the list ['a', 'b', 'c', 'd'].\n",
        "\n",
        "\n",
        "list3=['a','b','c','d']\n",
        "list3[1]"
      ],
      "metadata": {
        "colab": {
          "base_uri": "https://localhost:8080/",
          "height": 36
        },
        "id": "UF6ruxr9ZWz4",
        "outputId": "3f13f24f-cd40-449e-b93c-57424f9058e8"
      },
      "execution_count": 15,
      "outputs": [
        {
          "output_type": "execute_result",
          "data": {
            "text/plain": [
              "'b'"
            ],
            "application/vnd.google.colaboratory.intrinsic+json": {
              "type": "string"
            }
          },
          "metadata": {},
          "execution_count": 15
        }
      ]
    },
    {
      "cell_type": "code",
      "source": [
        "#10. Write a code to reverse the list [10, 20, 30, 40, 50].\n",
        "\n",
        "\n",
        "reverse_list=[10,20,30,40,50]\n",
        "reverse_list.reverse()\n",
        "print(\"reversed list is : \",reverse_list)"
      ],
      "metadata": {
        "colab": {
          "base_uri": "https://localhost:8080/"
        },
        "id": "cxzgi9LEZW54",
        "outputId": "9ec8fe7d-34bb-4377-b9a3-7b3ba0320293"
      },
      "execution_count": 18,
      "outputs": [
        {
          "output_type": "stream",
          "name": "stdout",
          "text": [
            "reversed list is :  [50, 40, 30, 20, 10]\n"
          ]
        }
      ]
    },
    {
      "cell_type": "code",
      "source": [
        "#11. Write a code to create a tuple with the elements 100, 200, 300 and print it.\n",
        "\n",
        "tuple1=(100,200,300)\n",
        "\n",
        "print(tuple1)"
      ],
      "metadata": {
        "colab": {
          "base_uri": "https://localhost:8080/"
        },
        "id": "7dz0TZxBZpwa",
        "outputId": "40e2cd9b-788e-4420-ead6-e232e5494463"
      },
      "execution_count": 19,
      "outputs": [
        {
          "output_type": "stream",
          "name": "stdout",
          "text": [
            "(100, 200, 300)\n"
          ]
        }
      ]
    },
    {
      "cell_type": "code",
      "source": [
        "#12. Write a code to access the second-to-last element of the tuple ('red', 'green', 'blue', 'yellow').\n",
        "\n",
        "\n",
        "tuple2=('red','green','blue','yellow')\n",
        "\n",
        "print(tuple2[-2])"
      ],
      "metadata": {
        "colab": {
          "base_uri": "https://localhost:8080/"
        },
        "id": "XBHgZpPVZpzY",
        "outputId": "e138e918-f3c6-41e7-a558-74209c46427c"
      },
      "execution_count": 21,
      "outputs": [
        {
          "output_type": "stream",
          "name": "stdout",
          "text": [
            "blue\n"
          ]
        }
      ]
    },
    {
      "cell_type": "code",
      "source": [
        "#13. Write a code to find the minimum number in the tuple (10, 20, 5, 15).\n",
        "\n",
        "\n",
        "tuple3=(10,20,5,15)\n",
        "\n",
        "print(min(tuple3))"
      ],
      "metadata": {
        "colab": {
          "base_uri": "https://localhost:8080/"
        },
        "id": "s5jAMzNoZp1-",
        "outputId": "02766cf3-7500-4162-f60f-f6e523a41edd"
      },
      "execution_count": 23,
      "outputs": [
        {
          "output_type": "stream",
          "name": "stdout",
          "text": [
            "5\n"
          ]
        }
      ]
    },
    {
      "cell_type": "code",
      "source": [
        "#14. Write a code to find the index of the element \"cat\" in the tuple ('dog', 'cat', 'rabbit').\n",
        "\n",
        "tuple4=('dog','cat','rabbit')\n",
        "\n",
        "\n",
        "tuple4.index(\"cat\")"
      ],
      "metadata": {
        "colab": {
          "base_uri": "https://localhost:8080/"
        },
        "id": "OFv88nJNZp5Y",
        "outputId": "7478c6fd-9d29-41cb-b843-66f2502a6347"
      },
      "execution_count": 24,
      "outputs": [
        {
          "output_type": "execute_result",
          "data": {
            "text/plain": [
              "1"
            ]
          },
          "metadata": {},
          "execution_count": 24
        }
      ]
    },
    {
      "cell_type": "code",
      "source": [
        "#15. Write a code to create a tuple containing three different fruits and check if \"kiwi\" is in it.\n",
        "\n",
        "\n",
        "fruits=(\"apple\",\"banana\",\"kiwi\")\n",
        "\n",
        "print(\"kiwi\" in fruits)"
      ],
      "metadata": {
        "colab": {
          "base_uri": "https://localhost:8080/"
        },
        "id": "YgyFZH0_aCcq",
        "outputId": "b9d55f5d-bb55-42d7-b0f2-4e74c0976aeb"
      },
      "execution_count": 25,
      "outputs": [
        {
          "output_type": "stream",
          "name": "stdout",
          "text": [
            "True\n"
          ]
        }
      ]
    },
    {
      "cell_type": "code",
      "source": [
        "#16. Write a code to create a set with the elements 'a', 'b', 'c' and print it.\n",
        "\n",
        "\n",
        "set1={'a','b','c'}\n",
        "\n",
        "print(set1)\n",
        "\n",
        "print(type(set1))"
      ],
      "metadata": {
        "colab": {
          "base_uri": "https://localhost:8080/"
        },
        "id": "uYdsBWLTaCfM",
        "outputId": "7ae0c052-e6c8-4469-bc36-11eeb7810a89"
      },
      "execution_count": 26,
      "outputs": [
        {
          "output_type": "stream",
          "name": "stdout",
          "text": [
            "{'c', 'a', 'b'}\n",
            "<class 'set'>\n"
          ]
        }
      ]
    },
    {
      "cell_type": "code",
      "source": [
        "#17. Write a code to clear all elements from the set {1, 2, 3, 4, 5}.\n",
        "\n",
        "set2={1,2,3,4,5}\n",
        "\n",
        "set2.clear()\n",
        "\n",
        "print(set2)"
      ],
      "metadata": {
        "colab": {
          "base_uri": "https://localhost:8080/"
        },
        "id": "tfXxbYN5aCh2",
        "outputId": "60348e31-6850-4f54-ae94-edf6ebbaf5bd"
      },
      "execution_count": 27,
      "outputs": [
        {
          "output_type": "stream",
          "name": "stdout",
          "text": [
            "set()\n"
          ]
        }
      ]
    },
    {
      "cell_type": "code",
      "source": [
        "#18. Write a code to remove the element 4 from the set {1, 2, 3, 4}.\n",
        "\n",
        "\n",
        "set3={1,2,3,4}\n",
        "\n",
        "set3.remove(4)\n",
        "\n",
        "print(set3)"
      ],
      "metadata": {
        "colab": {
          "base_uri": "https://localhost:8080/"
        },
        "id": "e5yDXb6laCjt",
        "outputId": "5d412dd1-14c6-47ff-91ca-01eaf16cd689"
      },
      "execution_count": 28,
      "outputs": [
        {
          "output_type": "stream",
          "name": "stdout",
          "text": [
            "{1, 2, 3}\n"
          ]
        }
      ]
    },
    {
      "cell_type": "code",
      "source": [
        "#19. Write a code to find the union of two sets {1, 2, 3} and {3, 4, 5}.\n",
        "\n",
        "\n",
        "set4={1,2,3}\n",
        "\n",
        "set5={3,4,5}\n",
        "\n",
        "print(set4.union(set5))"
      ],
      "metadata": {
        "colab": {
          "base_uri": "https://localhost:8080/"
        },
        "id": "hjQv_k5iaCnK",
        "outputId": "853f1c0c-3d22-4cf7-9e7b-3835b31453d4"
      },
      "execution_count": 29,
      "outputs": [
        {
          "output_type": "stream",
          "name": "stdout",
          "text": [
            "{1, 2, 3, 4, 5}\n"
          ]
        }
      ]
    },
    {
      "cell_type": "code",
      "source": [
        "#20. Write a code to find the intersection of two sets {1, 2, 3} and {2, 3, 4}.\n",
        "\n",
        "\n",
        "set6={1,2,3}\n",
        "\n",
        "set7={2,3,4}\n",
        "\n",
        "print(set6.intersection(set7))"
      ],
      "metadata": {
        "colab": {
          "base_uri": "https://localhost:8080/"
        },
        "id": "mV1dKBpsaooq",
        "outputId": "6ab56b2c-0492-40a1-fea5-8693093c2425"
      },
      "execution_count": 30,
      "outputs": [
        {
          "output_type": "stream",
          "name": "stdout",
          "text": [
            "{2, 3}\n"
          ]
        }
      ]
    },
    {
      "cell_type": "code",
      "source": [
        "#21. Write a code to create a dictionary with the keys \"name\", \"age\", and \"city\", and print it.\n",
        "\n",
        "\n",
        "dict1={\"name\":\"rikshit\",\"age\":28,\"city\":\"jaipur\"}\n",
        "\n",
        "print(dict1)"
      ],
      "metadata": {
        "colab": {
          "base_uri": "https://localhost:8080/"
        },
        "id": "9IArmniVaoqp",
        "outputId": "57dc4eb4-b911-49f9-c3d7-3bb8bf4b36f0"
      },
      "execution_count": 31,
      "outputs": [
        {
          "output_type": "stream",
          "name": "stdout",
          "text": [
            "{'name': 'rikshit', 'age': 28, 'city': 'jaipur'}\n"
          ]
        }
      ]
    },
    {
      "cell_type": "code",
      "source": [
        "#22. Write a code to add a new key-value pair \"country\": \"USA\" to the dictionary {'name': 'John', 'age': 25}.\n",
        "\n",
        "\n",
        "dict2={'name': 'John', 'age': 25}\n",
        "\n",
        "dict2[\"country\"]=\"USA\"\n",
        "\n",
        "print(dict2)"
      ],
      "metadata": {
        "colab": {
          "base_uri": "https://localhost:8080/"
        },
        "id": "XV8kQV3KaouD",
        "outputId": "97c04b3c-785b-417b-c751-acae1311a1b4"
      },
      "execution_count": 32,
      "outputs": [
        {
          "output_type": "stream",
          "name": "stdout",
          "text": [
            "{'name': 'John', 'age': 25, 'country': 'USA'}\n"
          ]
        }
      ]
    },
    {
      "cell_type": "code",
      "source": [
        "#23. Write a code to access the value associated with the key \"name\" in the dictionary {'name': 'Alice', 'age': 30}.\n",
        "\n",
        "dict3={'name': 'Alice', 'age': 30}\n",
        "\n",
        "print(dict3[\"name\"])"
      ],
      "metadata": {
        "colab": {
          "base_uri": "https://localhost:8080/"
        },
        "id": "lY-J7jXqa97D",
        "outputId": "be52e0fe-83b5-4959-a5bf-72f0d6346f7d"
      },
      "execution_count": 33,
      "outputs": [
        {
          "output_type": "stream",
          "name": "stdout",
          "text": [
            "Alice\n"
          ]
        }
      ]
    },
    {
      "cell_type": "code",
      "source": [
        "#24. Write a code to remove the key \"age\" from the dictionary {'name': 'Bob', 'age': 22, 'city': 'New York'}.\n",
        "\n",
        "dict4={'name': 'Bob', 'age': 22, 'city': 'New York'}\n",
        "\n",
        "dict4.pop(\"age\")\n",
        "\n",
        "print(dict4)"
      ],
      "metadata": {
        "colab": {
          "base_uri": "https://localhost:8080/"
        },
        "id": "qfqUM7x2a99p",
        "outputId": "d1350c82-886a-4893-ff47-ca72a15ac022"
      },
      "execution_count": 34,
      "outputs": [
        {
          "output_type": "stream",
          "name": "stdout",
          "text": [
            "{'name': 'Bob', 'city': 'New York'}\n"
          ]
        }
      ]
    },
    {
      "cell_type": "code",
      "source": [
        "#25. Write a code to check if the key \"city\" exists in the dictionary {'name': 'Alice', 'city': 'Paris'}.\n",
        "\n",
        "\n",
        "dict5={'name': 'Alice', 'city': 'Paris'}\n",
        "\n",
        "print(\"city\" in dict5)"
      ],
      "metadata": {
        "colab": {
          "base_uri": "https://localhost:8080/"
        },
        "id": "2yaZLu9ga-AQ",
        "outputId": "e0c244ec-4dfb-449e-ed54-d3eead288a26"
      },
      "execution_count": 35,
      "outputs": [
        {
          "output_type": "stream",
          "name": "stdout",
          "text": [
            "True\n"
          ]
        }
      ]
    },
    {
      "cell_type": "code",
      "source": [
        "#26. Write a code to create a list, a tuple, and a dictionary, and print them all.\n",
        "\n",
        "\n",
        "new_list=[1,2,3,4]\n",
        "print(new_list)\n",
        "print(type(new_list))\n",
        "\n",
        "\n",
        "print(\"*\"*50)\n",
        "\n",
        "new_tuple=(1,2,3,4)\n",
        "print(new_tuple)\n",
        "print(type(new_tuple))\n",
        "\n",
        "print(\"*\"*50)\n",
        "\n",
        "new_dict={\"name\":\"rikshit\",\"age\":28}\n",
        "print(new_dict)"
      ],
      "metadata": {
        "colab": {
          "base_uri": "https://localhost:8080/"
        },
        "id": "d-0SA83Ja-CV",
        "outputId": "b6a12256-78ad-4011-b437-a5a7fe62dad1"
      },
      "execution_count": 37,
      "outputs": [
        {
          "output_type": "stream",
          "name": "stdout",
          "text": [
            "[1, 2, 3, 4]\n",
            "<class 'list'>\n",
            "**************************************************\n",
            "(1, 2, 3, 4)\n",
            "<class 'tuple'>\n",
            "**************************************************\n",
            "{'name': 'rikshit', 'age': 28}\n"
          ]
        }
      ]
    },
    {
      "cell_type": "code",
      "source": [
        "#27. Write a code to create a list of 5 random numbers between 1 and 100, sort it in ascending order, and print the result.(replaced)\n",
        "\n",
        "import random\n",
        "\n",
        "numbers = random.sample(range(1, 101), 5)\n",
        "\n",
        "numbers.sort()\n",
        "\n",
        "print(numbers)"
      ],
      "metadata": {
        "colab": {
          "base_uri": "https://localhost:8080/"
        },
        "id": "oX812T4Oa-Ft",
        "outputId": "1b5eb934-a23e-4b10-d58d-670a56dd60ac"
      },
      "execution_count": 40,
      "outputs": [
        {
          "output_type": "stream",
          "name": "stdout",
          "text": [
            "[26, 37, 73, 77, 80]\n"
          ]
        }
      ]
    },
    {
      "cell_type": "code",
      "source": [
        "#28. Write a code to create a list with strings and print the element at the third index.\n",
        "\n",
        "string_list=[\"apple\",\"banana\",\"mango\",\"orange\"]\n",
        "\n",
        "print(string_list[2])"
      ],
      "metadata": {
        "colab": {
          "base_uri": "https://localhost:8080/"
        },
        "id": "k1BM9ozgcit8",
        "outputId": "2c8ad95f-d751-4c48-8b28-c01d180bd4c8"
      },
      "execution_count": 41,
      "outputs": [
        {
          "output_type": "stream",
          "name": "stdout",
          "text": [
            "mango\n"
          ]
        }
      ]
    },
    {
      "cell_type": "code",
      "source": [
        "#29. Write a code to combine two dictionaries into one and print the result.\n",
        "\n",
        "dict1={\"name\":\"pooja\",\"age\":23}\n",
        "dict2={\"love\":\"true_love\",\"email\":\"rikshitnara@gmail.com\"}\n",
        "\n",
        "dict1.update(dict2)\n",
        "\n",
        "print(dict1)"
      ],
      "metadata": {
        "colab": {
          "base_uri": "https://localhost:8080/"
        },
        "id": "lJzli3dXciwQ",
        "outputId": "19a8bf94-da32-477b-e4c8-228f8924d5ab"
      },
      "execution_count": 43,
      "outputs": [
        {
          "output_type": "stream",
          "name": "stdout",
          "text": [
            "{'name': 'pooja', 'age': 23, 'love': 'true_love', 'email': 'rikshitnara@gmail.com'}\n"
          ]
        }
      ]
    },
    {
      "cell_type": "code",
      "source": [
        "#30. Write a code to convert a list of strings into a set.\n",
        "\n",
        "list1=[\"apple\",\"banana\",\"mango\"]\n",
        "\n",
        "new_set=set(list1)\n",
        "\n",
        "print(new_set)\n",
        "\n",
        "print(type(new_set))"
      ],
      "metadata": {
        "colab": {
          "base_uri": "https://localhost:8080/"
        },
        "id": "r_7NXVpbcizv",
        "outputId": "5e0c0a1e-84e7-429c-d89a-318d051f0d96"
      },
      "execution_count": 45,
      "outputs": [
        {
          "output_type": "stream",
          "name": "stdout",
          "text": [
            "{'banana', 'apple', 'mango'}\n",
            "<class 'set'>\n"
          ]
        }
      ]
    },
    {
      "cell_type": "markdown",
      "source": [
        "                                              ********* Thank You *********"
      ],
      "metadata": {
        "id": "u38ZIlT1F5qF"
      }
    }
  ]
}